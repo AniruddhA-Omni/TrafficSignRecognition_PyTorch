{
 "cells": [
  {
   "cell_type": "code",
   "execution_count": 2,
   "metadata": {},
   "outputs": [],
   "source": [
    "import numpy as np\n",
    "import matplotlib.pyplot as plt\n",
    "import os\n",
    "import time\n",
    "from PIL import Image"
   ]
  },
  {
   "cell_type": "code",
   "execution_count": 5,
   "metadata": {},
   "outputs": [],
   "source": [
    "X = [] \n",
    "y = [] \n",
    "classes = 43\n",
    "current_path = os.getcwd()\n",
    "for i in range(classes):\n",
    "    path = os.path.join(current_path, 'TrafficSignRecognition', 'Train', str(i))\n",
    "    images = os.listdir(path)\n",
    "    for img_name in images:\n",
    "        image = Image.open(path + '\\\\' + img_name)\n",
    "        image = image.resize((30, 30))\n",
    "        image = np.array(image)\n",
    "        X.append(image)\n",
    "        y.append(i)\n",
    "X = np.array(X)\n",
    "y = np.array(y)"
   ]
  },
  {
   "cell_type": "code",
   "execution_count": 6,
   "metadata": {},
   "outputs": [
    {
     "data": {
      "text/plain": [
       "(39209, 30, 30, 3)"
      ]
     },
     "execution_count": 6,
     "metadata": {},
     "output_type": "execute_result"
    }
   ],
   "source": [
    "X.shape"
   ]
  },
  {
   "cell_type": "code",
   "execution_count": 7,
   "metadata": {},
   "outputs": [],
   "source": [
    "def train_test_split(data, labels, test_size=0.2, random_state=0):\n",
    "    np.random.seed(random_state)\n",
    "    N = labels.shape[0]\n",
    "    idx = np.random.permutation(N)\n",
    "    train_size = int(np.ceil((1-test_size)*N))\n",
    "    X_train = data[idx[:train_size]]\n",
    "    y_train = labels[idx[:train_size]]\n",
    "    X_test = data[idx[train_size:]]\n",
    "    y_test = labels[idx[train_size:]]\n",
    "    return X_train, X_test, y_train, y_test"
   ]
  },
  {
   "cell_type": "code",
   "execution_count": 8,
   "metadata": {},
   "outputs": [
    {
     "name": "stdout",
     "output_type": "stream",
     "text": [
      "X_train shape: (31368, 30, 30, 3)\n",
      "X_test shape: (7841, 30, 30, 3)\n",
      "y_train shape: (31368,)\n",
      "y_test shape: (7841,)\n"
     ]
    }
   ],
   "source": [
    "X_train, X_test, y_train, y_test = train_test_split(X, y, test_size=0.2, random_state=113)\n",
    "print(f\"X_train shape: {X_train.shape}\")\n",
    "print(f\"X_test shape: {X_test.shape}\")\n",
    "print(f\"y_train shape: {y_train.shape}\")\n",
    "print(f\"y_test shape: {y_test.shape}\")"
   ]
  },
  {
   "cell_type": "code",
   "execution_count": 9,
   "metadata": {},
   "outputs": [],
   "source": [
    "import torch\n",
    "import torch.nn as nn\n",
    "import torch.nn.functional as F\n",
    "import torch.optim as optim\n",
    "from torch.utils.data import TensorDataset\n",
    "from torch.utils.data import DataLoader"
   ]
  },
  {
   "cell_type": "code",
   "execution_count": 11,
   "metadata": {},
   "outputs": [],
   "source": [
    "class Net(nn.Module):\n",
    "    def __init__(self):\n",
    "        super(Net, self).__init__()\n",
    "        self.conv1 = nn.Conv2d(3, 32, 5) \n",
    "        self.conv2 = nn.Conv2d(32, 32, 5) \n",
    "        self.pool1 = nn.MaxPool2d(2,2)  \n",
    "        self.dropout1 = nn.Dropout(0.25) \n",
    "        self.conv3 = nn.Conv2d(32, 64, 3) \n",
    "        self.conv4 = nn.Conv2d(64, 64, 3) \n",
    "        self.pool2 = nn.MaxPool2d(2,2) \n",
    "        self.dropout2 = nn.Dropout(0.25) \n",
    "        self.fc1 = nn.Linear(3*3*64,256)\n",
    "        self.dropout3 = nn.Dropout(0.5) \n",
    "        self.fc2 = nn.Linear(256, 43) \n",
    "    def forward(self, x):\n",
    "        x = F.relu(self.conv1(x))\n",
    "        x = F.relu(self.conv2(x))\n",
    "        x = self.pool1(x)\n",
    "        x = self.dropout1(x)\n",
    "        x = F.relu(self.conv3(x))\n",
    "        x = F.relu(self.conv4(x))\n",
    "        x = self.pool2(x)\n",
    "        x = self.dropout2(x)\n",
    "        x = x.view(-1, 3*3*64)\n",
    "        x = F.relu(self.fc1(x))\n",
    "        x = self.dropout3(x)\n",
    "        x = self.fc2(x)\n",
    "        return x"
   ]
  },
  {
   "cell_type": "code",
   "execution_count": 12,
   "metadata": {},
   "outputs": [
    {
     "data": {
      "text/plain": [
       "Net(\n",
       "  (conv1): Conv2d(3, 32, kernel_size=(5, 5), stride=(1, 1))\n",
       "  (conv2): Conv2d(32, 32, kernel_size=(5, 5), stride=(1, 1))\n",
       "  (pool1): MaxPool2d(kernel_size=2, stride=2, padding=0, dilation=1, ceil_mode=False)\n",
       "  (dropout1): Dropout(p=0.25, inplace=False)\n",
       "  (conv3): Conv2d(32, 64, kernel_size=(3, 3), stride=(1, 1))\n",
       "  (conv4): Conv2d(64, 64, kernel_size=(3, 3), stride=(1, 1))\n",
       "  (pool2): MaxPool2d(kernel_size=2, stride=2, padding=0, dilation=1, ceil_mode=False)\n",
       "  (dropout2): Dropout(p=0.25, inplace=False)\n",
       "  (fc1): Linear(in_features=576, out_features=256, bias=True)\n",
       "  (dropout3): Dropout(p=0.5, inplace=False)\n",
       "  (fc2): Linear(in_features=256, out_features=43, bias=True)\n",
       ")"
      ]
     },
     "execution_count": 12,
     "metadata": {},
     "output_type": "execute_result"
    }
   ],
   "source": [
    "model = Net()\n",
    "model"
   ]
  },
  {
   "cell_type": "code",
   "execution_count": 13,
   "metadata": {},
   "outputs": [],
   "source": [
    "criterion = nn.CrossEntropyLoss()\n",
    "optimizer = optim.Adam(model.parameters())"
   ]
  },
  {
   "cell_type": "code",
   "execution_count": 14,
   "metadata": {},
   "outputs": [],
   "source": [
    "X_train_tensor = torch.from_numpy(np.transpose(X_train, (0, 3, 1, 2))).float()\n",
    "y_train_tensor = torch.from_numpy(y_train).long()\n",
    "X_val_tensor = torch.from_numpy(np.transpose(X_test, (0, 3, 1, 2))).float()\n",
    "y_val_tensor = torch.from_numpy(y_test).long()\n",
    "train_data = TensorDataset(X_train_tensor, y_train_tensor)\n",
    "val_data = TensorDataset(X_val_tensor, y_val_tensor)\n",
    "train_dataloader = DataLoader(dataset=train_data, batch_size=64)\n",
    "val_dataloader = DataLoader(dataset=val_data, batch_size=64)\n",
    "dataloaders = {'train': train_dataloader, 'val':val_dataloader}\n",
    "dataset_sizes = {'train': len(X_train), 'val': len(X_test)}"
   ]
  },
  {
   "cell_type": "code",
   "execution_count": 15,
   "metadata": {},
   "outputs": [],
   "source": [
    "def train_model(model, criterion, optimizer, dataset_sizes, num_epochs=15):\n",
    "    since = time.time()\n",
    "    epoch_loss = []\n",
    "    epoch_acc = []\n",
    "    for epoch in range(num_epochs):\n",
    "        print('Epoch {}/{}'.format(epoch, num_epochs - 1))\n",
    "        print('-' * 10)\n",
    "        for phase in ['train', 'val']:\n",
    "            if phase == 'train':\n",
    "                model.train()  \n",
    "            else:\n",
    "                model.eval()   \n",
    "            i = 0\n",
    "            running_loss = 0.0\n",
    "            running_corrects = 0\n",
    "            if phase == 'train':\n",
    "                 print(f'\\rProgress:',end='')\n",
    "            for inputs, labels in dataloaders[phase]:\n",
    "                optimizer.zero_grad()\n",
    "                with torch.set_grad_enabled(phase == 'train'):\n",
    "                    outputs = model(inputs)\n",
    "                    _, preds = torch.max(outputs, 1)\n",
    "                    loss = criterion(outputs, labels)\n",
    "                    if phase == 'train':\n",
    "                        loss.backward()\n",
    "                        optimizer.step()\n",
    "                running_loss += loss.item()\n",
    "                running_corrects += torch.sum(preds == labels.data)\n",
    "                if phase == 'train' and i % 50 == 49:\n",
    "                    print(f\"\\rProgress: [{'='*((i+1)//50)}] \",end='')\n",
    "                i += 1                        \n",
    "            epoch_loss.append(running_loss / dataset_sizes[phase])\n",
    "            epoch_acc.append(running_corrects.numpy() / dataset_sizes[phase])\n",
    "            print('{} Loss: {:.4f} Acc: {:.4f}'.format(\n",
    "                phase, epoch_loss[-1], epoch_acc[-1]))\n",
    "        print()\n",
    "    time_elapsed = time.time() - since\n",
    "    print('Training complete in {:.0f}m {:.0f}s'.format(\n",
    "        time_elapsed // 60, time_elapsed % 60))\n",
    "    return epoch_loss, epoch_acc"
   ]
  },
  {
   "cell_type": "code",
   "execution_count": 16,
   "metadata": {},
   "outputs": [
    {
     "name": "stdout",
     "output_type": "stream",
     "text": [
      "Epoch 0/14\n",
      "----------\n",
      "Progress: [=========] train Loss: 0.0293 Acc: 0.4941\n",
      "val Loss: 0.0067 Acc: 0.9066\n",
      "\n",
      "Epoch 1/14\n",
      "----------\n",
      "Progress: [=========] train Loss: 0.0088 Acc: 0.8394\n",
      "val Loss: 0.0031 Acc: 0.9597\n",
      "\n",
      "Epoch 2/14\n",
      "----------\n",
      "Progress: [=========] train Loss: 0.0056 Acc: 0.8991\n",
      "val Loss: 0.0020 Acc: 0.9699\n",
      "\n",
      "Epoch 3/14\n",
      "----------\n",
      "Progress: [=========] train Loss: 0.0043 Acc: 0.9242\n",
      "val Loss: 0.0017 Acc: 0.9774\n",
      "\n",
      "Epoch 4/14\n",
      "----------\n",
      "Progress: [=========] train Loss: 0.0036 Acc: 0.9362\n",
      "val Loss: 0.0013 Acc: 0.9779\n",
      "\n",
      "Epoch 5/14\n",
      "----------\n",
      "Progress: [=========] train Loss: 0.0031 Acc: 0.9426\n",
      "val Loss: 0.0008 Acc: 0.9889\n",
      "\n",
      "Epoch 6/14\n",
      "----------\n",
      "Progress: [=========] train Loss: 0.0029 Acc: 0.9477\n",
      "val Loss: 0.0007 Acc: 0.9904\n",
      "\n",
      "Epoch 7/14\n",
      "----------\n",
      "Progress: [=========] train Loss: 0.0031 Acc: 0.9453\n",
      "val Loss: 0.0008 Acc: 0.9879\n",
      "\n",
      "Epoch 8/14\n",
      "----------\n",
      "Progress: [=========] train Loss: 0.0029 Acc: 0.9483\n",
      "val Loss: 0.0007 Acc: 0.9898\n",
      "\n",
      "Epoch 9/14\n",
      "----------\n",
      "Progress: [=========] train Loss: 0.0025 Acc: 0.9545\n",
      "val Loss: 0.0009 Acc: 0.9870\n",
      "\n",
      "Epoch 10/14\n",
      "----------\n",
      "Progress: [=========] train Loss: 0.0025 Acc: 0.9565\n",
      "val Loss: 0.0008 Acc: 0.9867\n",
      "\n",
      "Epoch 11/14\n",
      "----------\n",
      "Progress: [=========] train Loss: 0.0025 Acc: 0.9558\n",
      "val Loss: 0.0008 Acc: 0.9875\n",
      "\n",
      "Epoch 12/14\n",
      "----------\n",
      "Progress: [=========] train Loss: 0.0025 Acc: 0.9566\n",
      "val Loss: 0.0006 Acc: 0.9893\n",
      "\n",
      "Epoch 13/14\n",
      "----------\n",
      "Progress: [=========] train Loss: 0.0026 Acc: 0.9555\n",
      "val Loss: 0.0006 Acc: 0.9909\n",
      "\n",
      "Epoch 14/14\n",
      "----------\n",
      "Progress: [=========] train Loss: 0.0022 Acc: 0.9611\n",
      "val Loss: 0.0006 Acc: 0.9889\n",
      "\n",
      "Training complete in 13m 32s\n"
     ]
    }
   ],
   "source": [
    "epoch_loss, epoch_acc = train_model(model, criterion, optimizer, dataset_sizes, num_epochs=15)"
   ]
  },
  {
   "cell_type": "code",
   "execution_count": 17,
   "metadata": {},
   "outputs": [],
   "source": [
    "accuracy = epoch_acc[::2]\n",
    "val_accuracy = epoch_acc[1::2]\n",
    "loss = epoch_loss[::2]\n",
    "val_loss = epoch_loss[1::2]"
   ]
  },
  {
   "cell_type": "code",
   "execution_count": 18,
   "metadata": {},
   "outputs": [
    {
     "data": {
      "text/plain": [
       "<matplotlib.legend.Legend at 0x218cb83f940>"
      ]
     },
     "execution_count": 18,
     "metadata": {},
     "output_type": "execute_result"
    },
    {
     "data": {
      "image/png": "[encoded data removed]",
      "text/plain": [
       "<Figure size 432x288 with 1 Axes>"
      ]
     },
     "metadata": {
      "needs_background": "light"
     },
     "output_type": "display_data"
    }
   ],
   "source": [
    "plt.figure()\n",
    "plt.plot(accuracy, label = 'Training Accuracy')\n",
    "plt.plot(val_accuracy, label = 'Validation Accuracy')\n",
    "plt.title('Accuray')\n",
    "plt.xlabel('epochs')\n",
    "plt.ylabel('accuracy')\n",
    "plt.legend()"
   ]
  },
  {
   "cell_type": "code",
   "execution_count": 19,
   "metadata": {},
   "outputs": [
    {
     "data": {
      "text/plain": [
       "<matplotlib.legend.Legend at 0x218820f1370>"
      ]
     },
     "execution_count": 19,
     "metadata": {},
     "output_type": "execute_result"
    },
    {
     "data": {
      "image/png": "[encoded data removed]",
      "text/plain": [
       "<Figure size 432x288 with 1 Axes>"
      ]
     },
     "metadata": {
      "needs_background": "light"
     },
     "output_type": "display_data"
    }
   ],
   "source": [
    "plt.figure()\n",
    "plt.plot(loss, label = 'Training Loss')\n",
    "plt.plot(val_loss, label = 'Validation Loss')\n",
    "plt.title('Loss')\n",
    "plt.xlabel('epochs')\n",
    "plt.ylabel('loss')\n",
    "plt.legend()"
   ]
  },
  {
   "cell_type": "code",
   "execution_count": 26,
   "metadata": {},
   "outputs": [],
   "source": [
    "torch.save(model.state_dict(), 'model.pt')"
   ]
  },
  {
   "cell_type": "code",
   "execution_count": 22,
   "metadata": {},
   "outputs": [],
   "source": [
    "N = 5000\n",
    "import pandas as pd\n",
    "current_path = os.getcwd()\n",
    "test_model_data = pd.read_csv(open(os.path.join(current_path, 'TrafficSignRecognition', 'Test.csv'), \"rb\"))\n",
    "y_test_labels = test_model_data['ClassId'][:N]\n",
    "img_paths = test_model_data['Path'][:N]\n",
    "x_test_labels = []\n",
    "for img in img_paths:\n",
    "    image = Image.open(os.path.join(current_path, 'TrafficSignRecognition',img))\n",
    "    image = image.resize((30,30))\n",
    "    x_test_labels.append(np.array(image))\n",
    "x_test_labels = np.array(x_test_labels)"
   ]
  },
  {
   "cell_type": "code",
   "execution_count": 23,
   "metadata": {},
   "outputs": [],
   "source": [
    "X_test_labels_tensor = torch.from_numpy(np.transpose(x_test_labels, (0, 3, 1, 2))).float()\n",
    "y_test_labels_tensor = torch.from_numpy(y_test_labels.values).long()"
   ]
  },
  {
   "cell_type": "code",
   "execution_count": 24,
   "metadata": {},
   "outputs": [
    {
     "name": "stdout",
     "output_type": "stream",
     "text": [
      "95.70%\n"
     ]
    }
   ],
   "source": [
    "model.eval()\n",
    "y_test_outputs = model(X_test_labels_tensor)\n",
    "_, y_test_preds = torch.max(y_test_outputs, 1)\n",
    "acc = torch.sum(y_test_preds == y_test_labels_tensor.data).float()/len(y_test_labels)\n",
    "print(f\"{acc:.2%}\")"
   ]
  }
 ],
 "metadata": {
  "interpreter": {
   "hash": "b529c6bed313b112a2bdc274fe95ed48478553dddbcd7bb656e7813927f6331f"
  },
  "kernelspec": {
   "display_name": "Python 3.9.0 64-bit",
   "language": "python",
   "name": "python3"
  },
  "language_info": {
   "codemirror_mode": {
    "name": "ipython",
    "version": 3
   },
   "file_extension": ".py",
   "mimetype": "text/x-python",
   "name": "python",
   "nbconvert_exporter": "python",
   "pygments_lexer": "ipython3",
   "version": "3.9.0"
  },
  "orig_nbformat": 4
 },
 "nbformat": 4,
 "nbformat_minor": 2
}

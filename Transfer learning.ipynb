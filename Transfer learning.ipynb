{
  "cells": [
    {
      "cell_type": "code",
      "execution_count": 1,
      "metadata": {
        "colab": {
          "base_uri": "https://localhost:8080/"
        },
        "id": "BuoUPXHPkSmY",
        "outputId": "103a935e-19a4-4e8f-e3fe-5d4dda094dbc"
      },
      "outputs": [
        {
          "output_type": "stream",
          "name": "stdout",
          "text": [
            "Mounted at /content/drive\n"
          ]
        }
      ],
      "source": [
        "from google.colab import drive\n",
        "drive.mount('/content/drive')"
      ]
    },
    {
      "cell_type": "code",
      "execution_count": 2,
      "metadata": {
        "id": "OLT24GehWobE"
      },
      "outputs": [],
      "source": [
        "#! pip install kaggle\n",
        "#! mkdir ~/.kaggle\n",
        "#!cp /content/drive/MyDrive/kaggle.json ~/.kaggle/kaggle.json\n",
        "#!cp /content/drive/MyDrive/kaggle.json ~/.kaggle/kaggle.json\n",
        "#!unzip /content/Gtsrb-german-traffic-sign.zip -d /content/drive/MyDrive/Gtrsb"
      ]
    },
    {
      "cell_type": "code",
      "execution_count": 3,
      "metadata": {
        "id": "KvGpniaOgj5f"
      },
      "outputs": [],
      "source": [
        "# Few imports\n",
        "\n",
        "import torch\n",
        "import torchvision\n",
        "from torchvision import transforms\n",
        "import torch.utils.data as data\n",
        "import torch.optim as optim\n",
        "import torch.nn as nn\n",
        "from torchsummary import summary\n",
        "import time\n",
        "import numpy as np\n",
        "import os\n",
        "import matplotlib.pyplot as plt\n",
        "\n",
        "from sklearn.metrics import confusion_matrix\n",
        "from sklearn.metrics import classification_report"
      ]
    },
    {
      "cell_type": "code",
      "source": [
        "# Before starting, clear the memory\n",
        "\n",
        "torch.cuda.empty_cache()"
      ],
      "metadata": {
        "id": "Q34ByvZf5IY_"
      },
      "execution_count": 9,
      "outputs": []
    },
    {
      "cell_type": "code",
      "execution_count": 10,
      "metadata": {
        "id": "eaEgZ4_Rrpja"
      },
      "outputs": [],
      "source": [
        "# Define the transformations. To begin with, we shall keep it minimum - only resizing the images and converting them to PyTorch tensors\n",
        "\n",
        "data_transforms = transforms.Compose([\n",
        "    transforms.Resize([112, 112]),\n",
        "    transforms.ToTensor()\n",
        "    ])"
      ]
    },
    {
      "cell_type": "code",
      "source": [
        "# Defining hyperparameters\n",
        "\n",
        "BATCH_SIZE = 256\n",
        "learning_rate = 0.001\n",
        "EPOCHS = 15\n",
        "numClasses = 43"
      ],
      "metadata": {
        "id": "4O30lze55SZu"
      },
      "execution_count": 11,
      "outputs": []
    },
    {
      "cell_type": "code",
      "source": [
        "\n",
        "train_data_path = \"/content/drive/MyDrive/Gtrsb/Train\""
      ],
      "metadata": {
        "id": "TPAS7p3bYzik"
      },
      "execution_count": 12,
      "outputs": []
    },
    {
      "cell_type": "code",
      "source": [
        "# Define path of training data\n",
        "\n",
        "train_data = torchvision.datasets.ImageFolder(root = train_data_path, transform = data_transforms)\n",
        "\n",
        "# Divide data into training and validation (0.8 and 0.2)\n",
        "ratio = 0.8\n",
        "n_train_examples = int(len(train_data) * ratio)\n",
        "n_val_examples = len(train_data) - n_train_examples\n",
        "\n",
        "train_data, val_data = data.random_split(train_data, [n_train_examples, n_val_examples])\n",
        "\n",
        "print(f\"Number of training samples = {len(train_data)}\")\n",
        "print(f\"Number of validation samples = {len(val_data)}\")"
      ],
      "metadata": {
        "id": "24niA3QI5SQ0",
        "colab": {
          "base_uri": "https://localhost:8080/"
        },
        "outputId": "f65af85c-3f16-470b-bba3-9a9f5de7e137"
      },
      "execution_count": 13,
      "outputs": [
        {
          "output_type": "stream",
          "name": "stdout",
          "text": [
            "Number of training samples = 31367\n",
            "Number of validation samples = 7842\n"
          ]
        }
      ]
    },
    {
      "cell_type": "code",
      "source": [
        "# Plot histogram for training and validation data\n",
        "\n",
        "train_hist = [0]*numClasses\n",
        "for i in train_data.indices:\n",
        "    tar = train_data.dataset.targets[i]\n",
        "    train_hist[tar] += 1\n",
        "    \n",
        "val_hist = [0]*numClasses\n",
        "for i in val_data.indices:\n",
        "    tar = val_data.dataset.targets[i]\n",
        "    val_hist[tar] += 1\n",
        "\n",
        "plt.bar(range(numClasses), train_hist, label=\"train\")\n",
        "plt.bar(range(numClasses), val_hist, label=\"val\")\n",
        "legend = plt.legend(loc='upper right', shadow=True)\n",
        "plt.title(\"Distribution Plot\")\n",
        "plt.xlabel(\"Class ID\")\n",
        "plt.ylabel(\"# of examples\")\n",
        "\n",
        "plt.savefig(\"train_val_split.png\", bbox_inches = 'tight', pad_inches=0.5)"
      ],
      "metadata": {
        "id": "C2qtW6YL5SGW",
        "colab": {
          "base_uri": "https://localhost:8080/",
          "height": 294
        },
        "outputId": "6e437e50-e0d2-440c-f2de-010866355421"
      },
      "execution_count": 14,
      "outputs": [
        {
          "output_type": "display_data",
          "data": {
            "text/plain": [
              "<Figure size 432x288 with 1 Axes>"
            ],
            "image/png": "[encoded data removed]"
          },
          "metadata": {
            "needs_background": "light"
          }
        }
      ]
    },
    {
      "cell_type": "code",
      "source": [
        "# Create data loader for training and validation\n",
        "\n",
        "train_loader = data.DataLoader(train_data, shuffle=True, batch_size = BATCH_SIZE)\n",
        "val_loader = data.DataLoader(val_data, shuffle=True, batch_size = BATCH_SIZE)"
      ],
      "metadata": {
        "id": "z8V8cCi-AG_t"
      },
      "execution_count": 15,
      "outputs": []
    },
    {
      "cell_type": "code",
      "source": [
        "# Function to count the number of parameters in the model\n",
        "\n",
        "def count_parameters(model):\n",
        "    return sum(p.numel() for p in model.parameters() if p.requires_grad)\n"
      ],
      "metadata": {
        "id": "g9SbwQHz5iw1"
      },
      "execution_count": 16,
      "outputs": []
    },
    {
      "cell_type": "code",
      "execution_count": 17,
      "metadata": {
        "id": "tXEc_gsYsC8y",
        "colab": {
          "base_uri": "https://localhost:8080/",
          "height": 85,
          "referenced_widgets": [
            "9a5dece5b7b047b6981baa39cdd90431",
            "574fbd44872d44d58ff0cb467dc28212",
            "b248d8ab3e1c43a289f8b17914002ea0",
            "8eb28f18f7d540a4a5e6581d7dabd9f9",
            "709a013593074f84bf6391cf5c1a24de",
            "d3d7704c146144e4936e9df38a71deca",
            "b7006de1cf6d46e5ad049812aa5959d2",
            "06ca360ff3804e8895c6cc45a7b587df",
            "5253766269a64cb280da015a1552ada3",
            "0bbbc5d4f29b429180778f23584c2cb5",
            "76bdb39db8764432af8187d2e9deff57"
          ]
        },
        "outputId": "fcdf26f4-6cfe-4b73-9e0c-dff8dde09604"
      },
      "outputs": [
        {
          "output_type": "stream",
          "name": "stderr",
          "text": [
            "Downloading: \"https://github.com/pytorch/vision/archive/v0.10.0.zip\" to /root/.cache/torch/hub/v0.10.0.zip\n",
            "Downloading: \"https://download.pytorch.org/models/alexnet-owt-7be5be79.pth\" to /root/.cache/torch/hub/checkpoints/alexnet-owt-7be5be79.pth\n"
          ]
        },
        {
          "output_type": "display_data",
          "data": {
            "text/plain": [
              "  0%|          | 0.00/233M [00:00<?, ?B/s]"
            ],
            "application/vnd.jupyter.widget-view+json": {
              "version_major": 2,
              "version_minor": 0,
              "model_id": "9a5dece5b7b047b6981baa39cdd90431"
            }
          },
          "metadata": {}
        }
      ],
      "source": [
        "# Initialize the model\n",
        "# The model is defined in the class AlexnetTS in the file class_alexnetTS.py\n",
        "model = torch.hub.load('pytorch/vision:v0.10.0', 'alexnet', pretrained=True)"
      ]
    },
    {
      "cell_type": "code",
      "source": [
        "for param in model.parameters():\n",
        "    param.requires_grad = False\n",
        "\n",
        "from collections import OrderedDict\n",
        "classifier = nn.Sequential(OrderedDict([\n",
        "                          ('dropout',nn.Dropout(p=0.4)),\n",
        "                          ('fc1', nn.Linear(9216, 4096)),\n",
        "                          ('relu', nn.ReLU()),\n",
        "                          ('fc2', nn.Linear(4096, 1024)),\n",
        "                          ('relu', nn.ReLU()),\n",
        "                          ('output', nn.LogSoftmax(dim=1)),\n",
        "                          ('fc3', nn.Linear(1024, 43)),\n",
        "                          ]))\n",
        "    \n",
        "model.classifier = classifier"
      ],
      "metadata": {
        "id": "aPhxjVDYBjde"
      },
      "execution_count": 18,
      "outputs": []
    },
    {
      "cell_type": "code",
      "execution_count": 19,
      "metadata": {
        "id": "eo9UcFv5sC4k"
      },
      "outputs": [],
      "source": [
        "# Define optimizer and criterion functions\n",
        "\n",
        "optimizer = optim.Adam(model.parameters(), lr=learning_rate)\n",
        "criterion = nn.CrossEntropyLoss()\n"
      ]
    },
    {
      "cell_type": "code",
      "execution_count": 20,
      "metadata": {
        "id": "PKX_zmLlsDAS"
      },
      "outputs": [],
      "source": [
        "# If CUDA is available, convert model and loss to cuda variables\n",
        "\n",
        "if torch.cuda.is_available():\n",
        "    model = model.cuda()\n",
        "    criterion = criterion.cuda()\n"
      ]
    },
    {
      "cell_type": "code",
      "execution_count": 21,
      "metadata": {
        "id": "NUP0OVaaVcnI",
        "colab": {
          "base_uri": "https://localhost:8080/"
        },
        "outputId": "2c35093f-c4ff-4d77-c693-2143b7b3b95f"
      },
      "outputs": [
        {
          "output_type": "stream",
          "name": "stdout",
          "text": [
            "AlexNet(\n",
            "  (features): Sequential(\n",
            "    (0): Conv2d(3, 64, kernel_size=(11, 11), stride=(4, 4), padding=(2, 2))\n",
            "    (1): ReLU(inplace=True)\n",
            "    (2): MaxPool2d(kernel_size=3, stride=2, padding=0, dilation=1, ceil_mode=False)\n",
            "    (3): Conv2d(64, 192, kernel_size=(5, 5), stride=(1, 1), padding=(2, 2))\n",
            "    (4): ReLU(inplace=True)\n",
            "    (5): MaxPool2d(kernel_size=3, stride=2, padding=0, dilation=1, ceil_mode=False)\n",
            "    (6): Conv2d(192, 384, kernel_size=(3, 3), stride=(1, 1), padding=(1, 1))\n",
            "    (7): ReLU(inplace=True)\n",
            "    (8): Conv2d(384, 256, kernel_size=(3, 3), stride=(1, 1), padding=(1, 1))\n",
            "    (9): ReLU(inplace=True)\n",
            "    (10): Conv2d(256, 256, kernel_size=(3, 3), stride=(1, 1), padding=(1, 1))\n",
            "    (11): ReLU(inplace=True)\n",
            "    (12): MaxPool2d(kernel_size=3, stride=2, padding=0, dilation=1, ceil_mode=False)\n",
            "  )\n",
            "  (avgpool): AdaptiveAvgPool2d(output_size=(6, 6))\n",
            "  (classifier): Sequential(\n",
            "    (dropout): Dropout(p=0.4, inplace=False)\n",
            "    (fc1): Linear(in_features=9216, out_features=4096, bias=True)\n",
            "    (relu): ReLU()\n",
            "    (fc2): Linear(in_features=4096, out_features=1024, bias=True)\n",
            "    (output): LogSoftmax(dim=1)\n",
            "    (fc3): Linear(in_features=1024, out_features=43, bias=True)\n",
            "  )\n",
            ")\n"
          ]
        }
      ],
      "source": [
        "# Print model\n",
        "\n",
        "print(model)\n"
      ]
    },
    {
      "cell_type": "code",
      "execution_count": 22,
      "metadata": {
        "id": "Juz-6i7e5LCK",
        "colab": {
          "base_uri": "https://localhost:8080/"
        },
        "outputId": "04416e12-9695-4c84-a4c5-d83a5556ae7d"
      },
      "outputs": [
        {
          "output_type": "stream",
          "name": "stdout",
          "text": [
            "Model's state dict:\n",
            "features.0.weight \t torch.Size([64, 3, 11, 11])\n",
            "features.0.bias \t torch.Size([64])\n",
            "features.3.weight \t torch.Size([192, 64, 5, 5])\n",
            "features.3.bias \t torch.Size([192])\n",
            "features.6.weight \t torch.Size([384, 192, 3, 3])\n",
            "features.6.bias \t torch.Size([384])\n",
            "features.8.weight \t torch.Size([256, 384, 3, 3])\n",
            "features.8.bias \t torch.Size([256])\n",
            "features.10.weight \t torch.Size([256, 256, 3, 3])\n",
            "features.10.bias \t torch.Size([256])\n",
            "classifier.fc1.weight \t torch.Size([4096, 9216])\n",
            "classifier.fc1.bias \t torch.Size([4096])\n",
            "classifier.fc2.weight \t torch.Size([1024, 4096])\n",
            "classifier.fc2.bias \t torch.Size([1024])\n",
            "classifier.fc3.weight \t torch.Size([43, 1024])\n",
            "classifier.fc3.bias \t torch.Size([43])\n",
            "\n"
          ]
        }
      ],
      "source": [
        "# Print model's state dict\n",
        "\n",
        "print(\"Model's state dict:\")\n",
        "for param_tensor in model.state_dict():\n",
        "    print(param_tensor, \"\\t\", model.state_dict()[param_tensor].size())\n",
        "print(\"\")\n"
      ]
    },
    {
      "cell_type": "code",
      "source": [
        "# Print optimizer details\n",
        "\n",
        "print(\"Optimizer details:\")\n",
        "print(optimizer)\n",
        "print(\"\")"
      ],
      "metadata": {
        "id": "80rW73Es5i2T",
        "colab": {
          "base_uri": "https://localhost:8080/"
        },
        "outputId": "3fde1ffb-5918-40e4-baaa-aa10e303f03f"
      },
      "execution_count": 23,
      "outputs": [
        {
          "output_type": "stream",
          "name": "stdout",
          "text": [
            "Optimizer details:\n",
            "Adam (\n",
            "Parameter Group 0\n",
            "    amsgrad: False\n",
            "    betas: (0.9, 0.999)\n",
            "    eps: 1e-08\n",
            "    lr: 0.001\n",
            "    weight_decay: 0\n",
            ")\n",
            "\n"
          ]
        }
      ]
    },
    {
      "cell_type": "code",
      "source": [
        "# Function to calculate accuracy\n",
        "\n",
        "def calculate_accuracy(y_pred, y):\n",
        "    top_pred = y_pred.argmax(1, keepdim = True)\n",
        "    correct = top_pred.eq(y.view_as(top_pred)).sum()\n",
        "    acc = correct.float() / y.shape[0]\n",
        "    return acc"
      ],
      "metadata": {
        "id": "USt7HWZ16Cb1"
      },
      "execution_count": 24,
      "outputs": []
    },
    {
      "cell_type": "code",
      "source": [
        "# Function to perform training of the model\n",
        "\n",
        "def train(model, loader, opt, criterion):\n",
        "    epoch_loss = 0\n",
        "    epoch_acc = 0\n",
        "    \n",
        "    # Train the model\n",
        "    model.train()\n",
        "    \n",
        "    for i, data in enumerate(loader, 0):\n",
        "        images, labels = data[0].cuda(), data[1].cuda()\n",
        "        # images = images.cuda()\n",
        "        # labels = labels.cuda()\n",
        "        \n",
        "        # Training pass\n",
        "        opt.zero_grad()\n",
        "        \n",
        "        output = model(images)\n",
        "        loss = criterion(output, labels)\n",
        "        \n",
        "        # Backpropagation\n",
        "        loss.backward()\n",
        "        \n",
        "        # Calculate accuracy\n",
        "        acc = calculate_accuracy(output, labels)\n",
        "        \n",
        "        # Optimizing weights\n",
        "        opt.step()\n",
        "        \n",
        "        epoch_loss += loss.item()\n",
        "        epoch_acc += acc.item()\n",
        "        \n",
        "    return (epoch_loss / len(loader), epoch_acc / len(loader))"
      ],
      "metadata": {
        "id": "X7gtzFLh6d4r"
      },
      "execution_count": 25,
      "outputs": []
    },
    {
      "cell_type": "code",
      "source": [
        "# Function to perform evaluation on the trained model\n",
        "\n",
        "def evaluate(model, loader, opt, criterion):\n",
        "    epoch_loss = 0\n",
        "    epoch_acc = 0\n",
        "    \n",
        "    # Evaluate the model\n",
        "    model.eval()\n",
        "    \n",
        "    with torch.no_grad():\n",
        "        for i, (images, labels) in enumerate(loader):\n",
        "            #images, labels = data[0].cuda(), data[1].cuda()\n",
        "        # for (images, labels) in loader:\n",
        "            images = images.cuda()\n",
        "            labels = labels.cuda()\n",
        "            \n",
        "            # Run predictions\n",
        "            output = model(images)\n",
        "            loss = criterion(output, labels)\n",
        "            \n",
        "            # Calculate accuracy\n",
        "            acc = calculate_accuracy(output, labels)\n",
        "            \n",
        "            epoch_loss += loss.item()\n",
        "            epoch_acc += acc.item()\n",
        "    \n",
        "    return (epoch_loss / len(loader), epoch_acc / len(loader))"
      ],
      "metadata": {
        "id": "BxKI_nzs6s8v"
      },
      "execution_count": 26,
      "outputs": []
    },
    {
      "cell_type": "code",
      "source": [
        "# Perform training\n",
        "\n",
        "# List to save training and val loss and accuracies\n",
        "train_loss_list = [0]*EPOCHS\n",
        "train_acc_list = [0]*EPOCHS\n",
        "val_loss_list = [0]*EPOCHS\n",
        "val_acc_list = [0]*EPOCHS\n",
        "\n",
        "for epoch in range(EPOCHS):\n",
        "    print(\"Epoch-%d: \" % (epoch))\n",
        "\n",
        "    train_start_time = time.monotonic()\n",
        "    train_loss, train_acc = train(model, train_loader, optimizer, criterion)\n",
        "    train_end_time = time.monotonic()\n",
        "\n",
        "    val_start_time = time.monotonic()\n",
        "    val_loss, val_acc = evaluate(model, val_loader, optimizer, criterion)\n",
        "    val_end_time = time.monotonic()\n",
        "    \n",
        "    train_loss_list[epoch] = train_loss\n",
        "    train_acc_list[epoch] = train_acc\n",
        "    val_loss_list[epoch] = val_loss\n",
        "    val_acc_list[epoch] = val_acc\n",
        "    \n",
        "    print(\"Training: Loss = %.4f, Accuracy = %.4f, Time = %.2f seconds\" % (train_loss, train_acc, train_end_time - train_start_time))\n",
        "    print(\"Validation: Loss = %.4f, Accuracy = %.4f, Time = %.2f seconds\" % (val_loss, val_acc, val_end_time - val_start_time))\n",
        "    print(\"\")"
      ],
      "metadata": {
        "id": "tOPShFPF6t_u",
        "colab": {
          "base_uri": "https://localhost:8080/"
        },
        "outputId": "a4c172bf-476c-4cc0-f7b9-9e51772bec08"
      },
      "execution_count": 27,
      "outputs": [
        {
          "output_type": "stream",
          "name": "stdout",
          "text": [
            "Epoch-0: \n",
            "Training: Loss = 6.2641, Accuracy = 0.3122, Time = 9801.27 seconds\n",
            "Validation: Loss = 1.5692, Accuracy = 0.5263, Time = 2026.78 seconds\n",
            "\n",
            "Epoch-1: \n",
            "Training: Loss = 1.1328, Accuracy = 0.6439, Time = 53.00 seconds\n",
            "Validation: Loss = 0.9135, Accuracy = 0.7011, Time = 13.07 seconds\n",
            "\n",
            "Epoch-2: \n",
            "Training: Loss = 0.7928, Accuracy = 0.7444, Time = 52.90 seconds\n",
            "Validation: Loss = 0.6535, Accuracy = 0.7872, Time = 12.81 seconds\n",
            "\n",
            "Epoch-3: \n",
            "Training: Loss = 0.6239, Accuracy = 0.7986, Time = 52.86 seconds\n",
            "Validation: Loss = 0.7130, Accuracy = 0.7858, Time = 13.11 seconds\n",
            "\n",
            "Epoch-4: \n",
            "Training: Loss = 0.5594, Accuracy = 0.8179, Time = 52.98 seconds\n",
            "Validation: Loss = 0.6364, Accuracy = 0.7986, Time = 13.00 seconds\n",
            "\n",
            "Epoch-5: \n",
            "Training: Loss = 0.4968, Accuracy = 0.8413, Time = 53.38 seconds\n",
            "Validation: Loss = 0.5853, Accuracy = 0.8209, Time = 12.75 seconds\n",
            "\n",
            "Epoch-6: \n",
            "Training: Loss = 0.4613, Accuracy = 0.8489, Time = 53.67 seconds\n",
            "Validation: Loss = 0.4347, Accuracy = 0.8712, Time = 13.07 seconds\n",
            "\n",
            "Epoch-7: \n",
            "Training: Loss = 0.4395, Accuracy = 0.8606, Time = 53.25 seconds\n",
            "Validation: Loss = 0.5619, Accuracy = 0.8303, Time = 12.95 seconds\n",
            "\n",
            "Epoch-8: \n",
            "Training: Loss = 0.3943, Accuracy = 0.8724, Time = 53.09 seconds\n",
            "Validation: Loss = 0.4639, Accuracy = 0.8654, Time = 12.94 seconds\n",
            "\n",
            "Epoch-9: \n",
            "Training: Loss = 0.4240, Accuracy = 0.8665, Time = 52.80 seconds\n",
            "Validation: Loss = 0.5861, Accuracy = 0.8364, Time = 12.88 seconds\n",
            "\n",
            "Epoch-10: \n",
            "Training: Loss = 0.3989, Accuracy = 0.8762, Time = 52.99 seconds\n",
            "Validation: Loss = 0.4858, Accuracy = 0.8665, Time = 12.79 seconds\n",
            "\n",
            "Epoch-11: \n",
            "Training: Loss = 0.4070, Accuracy = 0.8736, Time = 53.69 seconds\n",
            "Validation: Loss = 0.6463, Accuracy = 0.8455, Time = 12.96 seconds\n",
            "\n",
            "Epoch-12: \n",
            "Training: Loss = 0.3988, Accuracy = 0.8769, Time = 53.28 seconds\n",
            "Validation: Loss = 0.4113, Accuracy = 0.8847, Time = 13.05 seconds\n",
            "\n",
            "Epoch-13: \n",
            "Training: Loss = 0.3899, Accuracy = 0.8811, Time = 52.89 seconds\n",
            "Validation: Loss = 0.4735, Accuracy = 0.8777, Time = 13.16 seconds\n",
            "\n",
            "Epoch-14: \n",
            "Training: Loss = 0.4087, Accuracy = 0.8800, Time = 52.72 seconds\n",
            "Validation: Loss = 0.5038, Accuracy = 0.8650, Time = 12.75 seconds\n",
            "\n"
          ]
        }
      ]
    },
    {
      "cell_type": "code",
      "source": [
        "\n",
        "torch.save(model.state_dict(), 'saved_model.pt')\n"
      ],
      "metadata": {
        "id": "qtqh0MyV6t6h"
      },
      "execution_count": 33,
      "outputs": []
    },
    {
      "cell_type": "code",
      "execution_count": 29,
      "metadata": {
        "id": "uyZoZKUG5Kdv",
        "colab": {
          "base_uri": "https://localhost:8080/",
          "height": 350
        },
        "outputId": "a90d1138-5caf-4eb1-b131-a9c1fbe4d52f"
      },
      "outputs": [
        {
          "output_type": "display_data",
          "data": {
            "text/plain": [
              "<Figure size 1080x360 with 2 Axes>"
            ],
            "image/png": "[encoded data removed]"
          },
          "metadata": {
            "needs_background": "light"
          }
        }
      ],
      "source": [
        "# Plot loss and accuracies for training and validation data\n",
        "\n",
        "_, axs = plt.subplots(1, 2, figsize=(15, 5))\n",
        "\n",
        "# Loss plot\n",
        "axs[0].plot(train_loss_list, label=\"train\")\n",
        "axs[0].plot(val_loss_list, label=\"val\")\n",
        "axs[0].set_title(\"Plot - Loss\")\n",
        "axs[0].set_xlabel(\"Epochs\")\n",
        "axs[0].set_ylabel(\"Loss\")\n",
        "legend = axs[0].legend(loc='upper right', shadow=False)\n",
        "\n",
        "# Accuracy plot\n",
        "axs[1].plot(train_acc_list, label=\"train\")\n",
        "axs[1].plot(val_acc_list, label=\"val\")\n",
        "axs[1].set_title(\"Plot - Accuracy\")\n",
        "axs[1].set_xlabel(\"Epochs\")\n",
        "axs[1].set_ylabel(\"Accuracy\")\n",
        "legend = axs[1].legend(loc='center right', shadow=True)"
      ]
    },
    {
      "cell_type": "code",
      "source": [
        "from PIL import Image"
      ],
      "metadata": {
        "id": "SEAXYOa0n1NL"
      },
      "execution_count": 37,
      "outputs": []
    },
    {
      "cell_type": "code",
      "source": [
        "N = 5000\n",
        "import pandas as pd\n",
        "current_path = '/content/drive/MyDrive'\n",
        "test_model_data = pd.read_csv(open(os.path.join(current_path, 'Gtrsb', 'Test.csv'), \"rb\"))\n",
        "y_test_labels = test_model_data['ClassId'][:N]\n",
        "img_paths = test_model_data['Path'][:N]\n",
        "x_test_labels = []\n",
        "for img in img_paths:\n",
        "    image = Image.open(os.path.join(current_path, 'Gtrsb',img))\n",
        "    image = image.resize((30,30))\n",
        "    x_test_labels.append(np.array(image))\n",
        "x_test_labels = np.array(x_test_labels)"
      ],
      "metadata": {
        "id": "KKk0G7vfnX-X"
      },
      "execution_count": 42,
      "outputs": []
    },
    {
      "cell_type": "code",
      "source": [
        "X_test_labels_tensor = torch.from_numpy(np.transpose(x_test_labels, (0, 3, 1, 2))).float()\n",
        "y_test_labels_tensor = torch.from_numpy(y_test_labels.values).long()"
      ],
      "metadata": {
        "id": "u_nnLWvEnl8H"
      },
      "execution_count": 43,
      "outputs": []
    },
    {
      "cell_type": "code",
      "source": [
        "# this is what you had\n",
        "X_test_labels_tensor = X_test_labels_tensor.cuda() \n",
        "y_test_labels_tensor = y_test_labels_tensor.cuda()"
      ],
      "metadata": {
        "id": "iwMGyE1NuDLp"
      },
      "execution_count": 47,
      "outputs": []
    },
    {
      "cell_type": "code",
      "source": [
        "model.eval()\n",
        "y_test_outputs = model(X_test_labels_tensor)\n",
        "_, y_test_preds = torch.max(y_test_outputs, 1)\n",
        "acc = torch.sum(y_test_preds == y_test_labels_tensor.data).float()/len(y_test_labels)\n",
        "print(f\"{acc:.2%}\")\n"
      ],
      "metadata": {
        "id": "Qv99It2KnYfD"
      },
      "execution_count": 50,
      "outputs": []
    },
    {
      "cell_type": "code",
      "source": [
        ""
      ],
      "metadata": {
        "id": "L4uPOUYGqyeb"
      },
      "execution_count": null,
      "outputs": []
    }
  ],
  "metadata": {
    "accelerator": "GPU",
    "colab": {
      "collapsed_sections": [],
      "name": "Traffic sign recognition",
      "provenance": [],
      "machine_shape": "hm"
    },
    "kernelspec": {
      "display_name": "Python 3",
      "name": "python3"
    },
    "language_info": {
      "name": "python"
    },
    "widgets": {
      "application/vnd.jupyter.widget-state+json": {
        "9a5dece5b7b047b6981baa39cdd90431": {
          "model_module": "@jupyter-widgets/controls",
          "model_name": "HBoxModel",
          "model_module_version": "1.5.0",
          "state": {
            "_dom_classes": [],
            "_model_module": "@jupyter-widgets/controls",
            "_model_module_version": "1.5.0",
            "_model_name": "HBoxModel",
            "_view_count": null,
            "_view_module": "@jupyter-widgets/controls",
            "_view_module_version": "1.5.0",
            "_view_name": "HBoxView",
            "box_style": "",
            "children": [
              "IPY_MODEL_574fbd44872d44d58ff0cb467dc28212",
              "IPY_MODEL_b248d8ab3e1c43a289f8b17914002ea0",
              "IPY_MODEL_8eb28f18f7d540a4a5e6581d7dabd9f9"
            ],
            "layout": "IPY_MODEL_709a013593074f84bf6391cf5c1a24de"
          }
        },
        "574fbd44872d44d58ff0cb467dc28212": {
          "model_module": "@jupyter-widgets/controls",
          "model_name": "HTMLModel",
          "model_module_version": "1.5.0",
          "state": {
            "_dom_classes": [],
            "_model_module": "@jupyter-widgets/controls",
            "_model_module_version": "1.5.0",
            "_model_name": "HTMLModel",
            "_view_count": null,
            "_view_module": "@jupyter-widgets/controls",
            "_view_module_version": "1.5.0",
            "_view_name": "HTMLView",
            "description": "",
            "description_tooltip": null,
            "layout": "IPY_MODEL_d3d7704c146144e4936e9df38a71deca",
            "placeholder": "​",
            "style": "IPY_MODEL_b7006de1cf6d46e5ad049812aa5959d2",
            "value": "100%"
          }
        },
        "b248d8ab3e1c43a289f8b17914002ea0": {
          "model_module": "@jupyter-widgets/controls",
          "model_name": "FloatProgressModel",
          "model_module_version": "1.5.0",
          "state": {
            "_dom_classes": [],
            "_model_module": "@jupyter-widgets/controls",
            "_model_module_version": "1.5.0",
            "_model_name": "FloatProgressModel",
            "_view_count": null,
            "_view_module": "@jupyter-widgets/controls",
            "_view_module_version": "1.5.0",
            "_view_name": "ProgressView",
            "bar_style": "success",
            "description": "",
            "description_tooltip": null,
            "layout": "IPY_MODEL_06ca360ff3804e8895c6cc45a7b587df",
            "max": 244408911,
            "min": 0,
            "orientation": "horizontal",
            "style": "IPY_MODEL_5253766269a64cb280da015a1552ada3",
            "value": 244408911
          }
        },
        "8eb28f18f7d540a4a5e6581d7dabd9f9": {
          "model_module": "@jupyter-widgets/controls",
          "model_name": "HTMLModel",
          "model_module_version": "1.5.0",
          "state": {
            "_dom_classes": [],
            "_model_module": "@jupyter-widgets/controls",
            "_model_module_version": "1.5.0",
            "_model_name": "HTMLModel",
            "_view_count": null,
            "_view_module": "@jupyter-widgets/controls",
            "_view_module_version": "1.5.0",
            "_view_name": "HTMLView",
            "description": "",
            "description_tooltip": null,
            "layout": "IPY_MODEL_0bbbc5d4f29b429180778f23584c2cb5",
            "placeholder": "​",
            "style": "IPY_MODEL_76bdb39db8764432af8187d2e9deff57",
            "value": " 233M/233M [00:00&lt;00:00, 263MB/s]"
          }
        },
        "709a013593074f84bf6391cf5c1a24de": {
          "model_module": "@jupyter-widgets/base",
          "model_name": "LayoutModel",
          "model_module_version": "1.2.0",
          "state": {
            "_model_module": "@jupyter-widgets/base",
            "_model_module_version": "1.2.0",
            "_model_name": "LayoutModel",
            "_view_count": null,
            "_view_module": "@jupyter-widgets/base",
            "_view_module_version": "1.2.0",
            "_view_name": "LayoutView",
            "align_content": null,
            "align_items": null,
            "align_self": null,
            "border": null,
            "bottom": null,
            "display": null,
            "flex": null,
            "flex_flow": null,
            "grid_area": null,
            "grid_auto_columns": null,
            "grid_auto_flow": null,
            "grid_auto_rows": null,
            "grid_column": null,
            "grid_gap": null,
            "grid_row": null,
            "grid_template_areas": null,
            "grid_template_columns": null,
            "grid_template_rows": null,
            "height": null,
            "justify_content": null,
            "justify_items": null,
            "left": null,
            "margin": null,
            "max_height": null,
            "max_width": null,
            "min_height": null,
            "min_width": null,
            "object_fit": null,
            "object_position": null,
            "order": null,
            "overflow": null,
            "overflow_x": null,
            "overflow_y": null,
            "padding": null,
            "right": null,
            "top": null,
            "visibility": null,
            "width": null
          }
        },
        "d3d7704c146144e4936e9df38a71deca": {
          "model_module": "@jupyter-widgets/base",
          "model_name": "LayoutModel",
          "model_module_version": "1.2.0",
          "state": {
            "_model_module": "@jupyter-widgets/base",
            "_model_module_version": "1.2.0",
            "_model_name": "LayoutModel",
            "_view_count": null,
            "_view_module": "@jupyter-widgets/base",
            "_view_module_version": "1.2.0",
            "_view_name": "LayoutView",
            "align_content": null,
            "align_items": null,
            "align_self": null,
            "border": null,
            "bottom": null,
            "display": null,
            "flex": null,
            "flex_flow": null,
            "grid_area": null,
            "grid_auto_columns": null,
            "grid_auto_flow": null,
            "grid_auto_rows": null,
            "grid_column": null,
            "grid_gap": null,
            "grid_row": null,
            "grid_template_areas": null,
            "grid_template_columns": null,
            "grid_template_rows": null,
            "height": null,
            "justify_content": null,
            "justify_items": null,
            "left": null,
            "margin": null,
            "max_height": null,
            "max_width": null,
            "min_height": null,
            "min_width": null,
            "object_fit": null,
            "object_position": null,
            "order": null,
            "overflow": null,
            "overflow_x": null,
            "overflow_y": null,
            "padding": null,
            "right": null,
            "top": null,
            "visibility": null,
            "width": null
          }
        },
        "b7006de1cf6d46e5ad049812aa5959d2": {
          "model_module": "@jupyter-widgets/controls",
          "model_name": "DescriptionStyleModel",
          "model_module_version": "1.5.0",
          "state": {
            "_model_module": "@jupyter-widgets/controls",
            "_model_module_version": "1.5.0",
            "_model_name": "DescriptionStyleModel",
            "_view_count": null,
            "_view_module": "@jupyter-widgets/base",
            "_view_module_version": "1.2.0",
            "_view_name": "StyleView",
            "description_width": ""
          }
        },
        "06ca360ff3804e8895c6cc45a7b587df": {
          "model_module": "@jupyter-widgets/base",
          "model_name": "LayoutModel",
          "model_module_version": "1.2.0",
          "state": {
            "_model_module": "@jupyter-widgets/base",
            "_model_module_version": "1.2.0",
            "_model_name": "LayoutModel",
            "_view_count": null,
            "_view_module": "@jupyter-widgets/base",
            "_view_module_version": "1.2.0",
            "_view_name": "LayoutView",
            "align_content": null,
            "align_items": null,
            "align_self": null,
            "border": null,
            "bottom": null,
            "display": null,
            "flex": null,
            "flex_flow": null,
            "grid_area": null,
            "grid_auto_columns": null,
            "grid_auto_flow": null,
            "grid_auto_rows": null,
            "grid_column": null,
            "grid_gap": null,
            "grid_row": null,
            "grid_template_areas": null,
            "grid_template_columns": null,
            "grid_template_rows": null,
            "height": null,
            "justify_content": null,
            "justify_items": null,
            "left": null,
            "margin": null,
            "max_height": null,
            "max_width": null,
            "min_height": null,
            "min_width": null,
            "object_fit": null,
            "object_position": null,
            "order": null,
            "overflow": null,
            "overflow_x": null,
            "overflow_y": null,
            "padding": null,
            "right": null,
            "top": null,
            "visibility": null,
            "width": null
          }
        },
        "5253766269a64cb280da015a1552ada3": {
          "model_module": "@jupyter-widgets/controls",
          "model_name": "ProgressStyleModel",
          "model_module_version": "1.5.0",
          "state": {
            "_model_module": "@jupyter-widgets/controls",
            "_model_module_version": "1.5.0",
            "_model_name": "ProgressStyleModel",
            "_view_count": null,
            "_view_module": "@jupyter-widgets/base",
            "_view_module_version": "1.2.0",
            "_view_name": "StyleView",
            "bar_color": null,
            "description_width": ""
          }
        },
        "0bbbc5d4f29b429180778f23584c2cb5": {
          "model_module": "@jupyter-widgets/base",
          "model_name": "LayoutModel",
          "model_module_version": "1.2.0",
          "state": {
            "_model_module": "@jupyter-widgets/base",
            "_model_module_version": "1.2.0",
            "_model_name": "LayoutModel",
            "_view_count": null,
            "_view_module": "@jupyter-widgets/base",
            "_view_module_version": "1.2.0",
            "_view_name": "LayoutView",
            "align_content": null,
            "align_items": null,
            "align_self": null,
            "border": null,
            "bottom": null,
            "display": null,
            "flex": null,
            "flex_flow": null,
            "grid_area": null,
            "grid_auto_columns": null,
            "grid_auto_flow": null,
            "grid_auto_rows": null,
            "grid_column": null,
            "grid_gap": null,
            "grid_row": null,
            "grid_template_areas": null,
            "grid_template_columns": null,
            "grid_template_rows": null,
            "height": null,
            "justify_content": null,
            "justify_items": null,
            "left": null,
            "margin": null,
            "max_height": null,
            "max_width": null,
            "min_height": null,
            "min_width": null,
            "object_fit": null,
            "object_position": null,
            "order": null,
            "overflow": null,
            "overflow_x": null,
            "overflow_y": null,
            "padding": null,
            "right": null,
            "top": null,
            "visibility": null,
            "width": null
          }
        },
        "76bdb39db8764432af8187d2e9deff57": {
          "model_module": "@jupyter-widgets/controls",
          "model_name": "DescriptionStyleModel",
          "model_module_version": "1.5.0",
          "state": {
            "_model_module": "@jupyter-widgets/controls",
            "_model_module_version": "1.5.0",
            "_model_name": "DescriptionStyleModel",
            "_view_count": null,
            "_view_module": "@jupyter-widgets/base",
            "_view_module_version": "1.2.0",
            "_view_name": "StyleView",
            "description_width": ""
          }
        }
      }
    }
  },
  "nbformat": 4,
  "nbformat_minor": 0
}